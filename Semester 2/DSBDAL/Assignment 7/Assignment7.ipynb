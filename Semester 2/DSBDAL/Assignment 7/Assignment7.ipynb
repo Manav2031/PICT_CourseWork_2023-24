{
 "cells": [
  {
   "cell_type": "code",
   "execution_count": 1,
   "id": "03f2caab-d605-4392-83ff-7cbd502bad35",
   "metadata": {},
   "outputs": [
    {
     "name": "stderr",
     "output_type": "stream",
     "text": [
      "[nltk_data] Downloading package stopwords to\n",
      "[nltk_data]     C:\\Users\\neils\\AppData\\Roaming\\nltk_data...\n",
      "[nltk_data]   Package stopwords is already up-to-date!\n"
     ]
    }
   ],
   "source": [
    "import nltk\n",
    "nltk.download('stopwords')\n",
    "from nltk.corpus import stopwords\n",
    "from nltk.tokenize import word_tokenize, sent_tokenize\n",
    "from nltk.stem import PorterStemmer, WordNetLemmatizer\n",
    "from nltk import pos_tag"
   ]
  },
  {
   "cell_type": "code",
   "execution_count": 2,
   "id": "e7b44188-034b-454e-8af0-21cd3e94aac6",
   "metadata": {},
   "outputs": [],
   "source": [
    "def readFromFile(filename):\n",
    "  with open(filename, 'r') as file:\n",
    "      return file.read()"
   ]
  },
  {
   "cell_type": "code",
   "execution_count": 3,
   "id": "0aaea571-af37-4726-adf8-b949971a4b8b",
   "metadata": {},
   "outputs": [],
   "source": [
    "file1 = readFromFile('sample1.txt')\n",
    "file2 = readFromFile('sample2.txt')"
   ]
  },
  {
   "cell_type": "code",
   "execution_count": 4,
   "id": "36882f5d-badc-454b-80c3-34e0b04c0457",
   "metadata": {},
   "outputs": [
    {
     "data": {
      "text/plain": [
       "['achieve',\n",
       " 'achieve',\n",
       " 'academic',\n",
       " 'excellence',\n",
       " 'by',\n",
       " 'imparting',\n",
       " 'education',\n",
       " 'in',\n",
       " 'computing',\n",
       " 'and',\n",
       " 'research',\n",
       " 'hello',\n",
       " 'world']"
      ]
     },
     "execution_count": 4,
     "metadata": {},
     "output_type": "execute_result"
    }
   ],
   "source": [
    "import string\n",
    "def Tokenise(sentence: str):\n",
    "    punctuation = string.punctuation + '[]{}()<>'  # Add brackets to punctuation marks\n",
    "    for char in punctuation:\n",
    "        sentence = sentence.replace(char, \" \")\n",
    "\n",
    "    sentence = sentence.lower()\n",
    "    tokens = sentence.split()\n",
    "    return tokens\n",
    "\n",
    "tokens = Tokenise(file1)\n",
    "tokens"
   ]
  },
  {
   "cell_type": "code",
   "execution_count": 5,
   "id": "aa21443b-c1c1-4be6-8dfc-8eb35c1126e1",
   "metadata": {},
   "outputs": [
    {
     "data": {
      "text/plain": [
       "['achieve',\n",
       " 'achieve',\n",
       " 'academic',\n",
       " 'excellence',\n",
       " 'imparting',\n",
       " 'education',\n",
       " 'computing',\n",
       " 'research',\n",
       " 'hello',\n",
       " 'world']"
      ]
     },
     "execution_count": 5,
     "metadata": {},
     "output_type": "execute_result"
    }
   ],
   "source": [
    "def RemoveStopWords(token):\n",
    "  stop_words = set(stopwords.words('english'))\n",
    "  filtered_sentence=[word for word in tokens if not word in stop_words]\n",
    "\n",
    "  return filtered_sentence\n",
    "\n",
    "tokens = RemoveStopWords(tokens)\n",
    "tokens"
   ]
  },
  {
   "cell_type": "code",
   "execution_count": 6,
   "id": "cb263b87-740b-45f9-ade9-a79633f7ee50",
   "metadata": {},
   "outputs": [
    {
     "name": "stderr",
     "output_type": "stream",
     "text": [
      "[nltk_data] Downloading package averaged_perceptron_tagger to\n",
      "[nltk_data]     C:\\Users\\neils\\AppData\\Roaming\\nltk_data...\n",
      "[nltk_data]   Package averaged_perceptron_tagger is already up-to-\n",
      "[nltk_data]       date!\n"
     ]
    },
    {
     "data": {
      "text/plain": [
       "True"
      ]
     },
     "execution_count": 6,
     "metadata": {},
     "output_type": "execute_result"
    }
   ],
   "source": [
    "nltk.download('averaged_perceptron_tagger')"
   ]
  },
  {
   "cell_type": "code",
   "execution_count": 7,
   "id": "868edd67-92e4-4913-82f3-a8df830e52c0",
   "metadata": {},
   "outputs": [
    {
     "data": {
      "text/plain": [
       "[('achieve', 'NNS'),\n",
       " ('achieve', 'VBP'),\n",
       " ('academic', 'JJ'),\n",
       " ('excellence', 'NN'),\n",
       " ('imparting', 'VBG'),\n",
       " ('education', 'NN'),\n",
       " ('computing', 'VBG'),\n",
       " ('research', 'NN'),\n",
       " ('hello', 'NN'),\n",
       " ('world', 'NN')]"
      ]
     },
     "execution_count": 7,
     "metadata": {},
     "output_type": "execute_result"
    }
   ],
   "source": [
    "# POS TAGGING- TAGGING WORD ACCORDING TO THEIR PARTS OF SPEECH\n",
    "\n",
    "pos_tag_list = pos_tag(tokens)\n",
    "pos_tag_list"
   ]
  },
  {
   "cell_type": "code",
   "execution_count": 8,
   "id": "2552b8b6-c3c4-4a94-97ee-495301d5041a",
   "metadata": {},
   "outputs": [
    {
     "name": "stdout",
     "output_type": "stream",
     "text": [
      "Stemming Words\n",
      "achieve : achiev\n",
      "achieve : achiev\n",
      "academic : academ\n",
      "excellence : excel\n",
      "imparting : impart\n",
      "education : educ\n",
      "computing : comput\n",
      "research : research\n",
      "hello : hello\n",
      "world : world\n"
     ]
    }
   ],
   "source": [
    "# STEMMING\n",
    "\n",
    "stemmer = PorterStemmer()\n",
    "print(\"Stemming Words\")\n",
    "for w in tokens:\n",
    "    print(f\"{w} : {stemmer.stem(w)}\")"
   ]
  },
  {
   "cell_type": "code",
   "execution_count": 9,
   "id": "bca66dec-2a6f-4bb6-b3b7-2cc31c9882fe",
   "metadata": {},
   "outputs": [
    {
     "name": "stderr",
     "output_type": "stream",
     "text": [
      "[nltk_data] Downloading package omw-1.4 to\n",
      "[nltk_data]     C:\\Users\\neils\\AppData\\Roaming\\nltk_data...\n",
      "[nltk_data]   Package omw-1.4 is already up-to-date!\n"
     ]
    },
    {
     "data": {
      "text/plain": [
       "True"
      ]
     },
     "execution_count": 9,
     "metadata": {},
     "output_type": "execute_result"
    }
   ],
   "source": [
    "nltk.download('omw-1.4')"
   ]
  },
  {
   "cell_type": "code",
   "execution_count": 10,
   "id": "67717286-bad6-4ef9-ba7a-c3771151d4cf",
   "metadata": {},
   "outputs": [
    {
     "name": "stderr",
     "output_type": "stream",
     "text": [
      "[nltk_data] Downloading package wordnet to\n",
      "[nltk_data]     C:\\Users\\neils\\AppData\\Roaming\\nltk_data...\n",
      "[nltk_data]   Package wordnet is already up-to-date!\n"
     ]
    },
    {
     "data": {
      "text/plain": [
       "True"
      ]
     },
     "execution_count": 10,
     "metadata": {},
     "output_type": "execute_result"
    }
   ],
   "source": [
    "nltk.download('wordnet')"
   ]
  },
  {
   "cell_type": "code",
   "execution_count": 11,
   "id": "232b7408-26c2-44ac-92bc-8786c0d00840",
   "metadata": {},
   "outputs": [
    {
     "name": "stdout",
     "output_type": "stream",
     "text": [
      "achieve : achieve\n",
      "achieve : achieve\n",
      "academic : academic\n",
      "excellence : excellence\n",
      "imparting : imparting\n",
      "education : education\n",
      "computing : computing\n",
      "research : research\n",
      "hello : hello\n",
      "world : world\n"
     ]
    }
   ],
   "source": [
    "# LEMMATIZATION\n",
    "\n",
    "lemmatizer = WordNetLemmatizer()\n",
    "\n",
    "for w in tokens:\n",
    "    print(f\"{w} : {lemmatizer.lemmatize(w)}\")"
   ]
  },
  {
   "cell_type": "code",
   "execution_count": 12,
   "id": "d4aa751a-b196-4f83-b995-abb7021e2948",
   "metadata": {},
   "outputs": [
    {
     "name": "stdout",
     "output_type": "stream",
     "text": [
      "{'achieve': 0.2, 'academic': 0.1, 'excellence': 0.1, 'imparting': 0.1, 'education': 0.1, 'computing': 0.1, 'research': 0.1, 'hello': 0.1, 'world': 0.1}\n"
     ]
    }
   ],
   "source": [
    "# TF-CALCULATES FREQ OF EACH WORD\n",
    "\n",
    "def calculateTF(token):\n",
    "    term_freq = {}\n",
    "    for word in token:\n",
    "        if word not in term_freq:\n",
    "            term_freq[word] = token.count(word) / len(token)\n",
    "\n",
    "    return term_freq\n",
    "\n",
    "print(calculateTF(tokens))"
   ]
  },
  {
   "cell_type": "code",
   "execution_count": 13,
   "id": "cd419ca9-cb67-4965-9a95-9bef5609cdac",
   "metadata": {},
   "outputs": [
    {
     "name": "stderr",
     "output_type": "stream",
     "text": [
      "[nltk_data] Downloading package punkt to\n",
      "[nltk_data]     C:\\Users\\neils\\AppData\\Roaming\\nltk_data...\n",
      "[nltk_data]   Package punkt is already up-to-date!\n"
     ]
    },
    {
     "data": {
      "text/plain": [
       "True"
      ]
     },
     "execution_count": 13,
     "metadata": {},
     "output_type": "execute_result"
    }
   ],
   "source": [
    "nltk.download('punkt')"
   ]
  },
  {
   "cell_type": "code",
   "execution_count": 14,
   "id": "3661d4c0-5789-4d76-be00-4d3433d0fc13",
   "metadata": {},
   "outputs": [
    {
     "name": "stdout",
     "output_type": "stream",
     "text": [
      "Word: Achieve, IDF: 0.0\n",
      "Word: academic, IDF: 0.6931471805599453\n",
      "Word: excellence, IDF: 0.6931471805599453\n",
      "Word: by, IDF: 0.6931471805599453\n",
      "Word: imparting, IDF: 0.6931471805599453\n",
      "Word: education, IDF: 0.6931471805599453\n",
      "Word: in, IDF: 0.6931471805599453\n",
      "Word: computing, IDF: 0.6931471805599453\n",
      "Word: and, IDF: 0.6931471805599453\n",
      "Word: research, IDF: 0.6931471805599453\n",
      "Word: Hello, IDF: -0.40546510810816444\n",
      "Word: World, IDF: 0.0\n",
      "Word: PICT, IDF: 0.6931471805599453\n",
      "Word: ABCD, IDF: 0.6931471805599453\n"
     ]
    }
   ],
   "source": [
    "import math\n",
    "d1_tokens=nltk.word_tokenize(file1)\n",
    "d2_tokens=nltk.word_tokenize(file2)\n",
    "all_tokens=d1_tokens+d2_tokens\n",
    "document_frequency = {}\n",
    "total_documents = 2\n",
    "for word in all_tokens:\n",
    "    if word not in document_frequency:\n",
    "        document_frequency[word] = 1\n",
    "    else:\n",
    "        document_frequency[word] += 1\n",
    "\n",
    "idf = {}\n",
    "for word in document_frequency:\n",
    "    idf[word] = math.log(total_documents / document_frequency[word])\n",
    "\n",
    "for word, value in idf.items():\n",
    "    print(f\"Word: {word}, IDF: {value}\")"
   ]
  },
  {
   "cell_type": "code",
   "execution_count": null,
   "id": "917fe609-19a5-428e-b43f-a5604c90a90b",
   "metadata": {},
   "outputs": [],
   "source": []
  }
 ],
 "metadata": {
  "kernelspec": {
   "display_name": "Python 3 (ipykernel)",
   "language": "python",
   "name": "python3"
  },
  "language_info": {
   "codemirror_mode": {
    "name": "ipython",
    "version": 3
   },
   "file_extension": ".py",
   "mimetype": "text/x-python",
   "name": "python",
   "nbconvert_exporter": "python",
   "pygments_lexer": "ipython3",
   "version": "3.12.1"
  }
 },
 "nbformat": 4,
 "nbformat_minor": 5
}
